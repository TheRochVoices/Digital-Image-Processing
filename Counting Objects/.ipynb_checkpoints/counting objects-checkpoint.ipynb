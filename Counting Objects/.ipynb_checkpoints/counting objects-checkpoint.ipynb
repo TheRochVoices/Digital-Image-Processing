{
 "cells": [
  {
   "cell_type": "markdown",
   "metadata": {},
   "source": [
    "# Following code counts the number of objects in an image\n",
    "\n",
    "<p>Counting number of distinct objects in an image is quite simple for humans but it is not so simple for<> computers(because for computer image is an array of numbers).</p>\n",
    "<p>Counting number of objects in an RGB, Greyscale is difficult so for simplicity I have converted image into binary format before applying algorithm.</p> "
   ]
  },
  {
   "cell_type": "code",
   "execution_count": 49,
   "metadata": {},
   "outputs": [],
   "source": [
    "import numpy as np\n",
    "import matplotlib.pyplot as plt\n",
    "from skimage import io,color"
   ]
  },
  {
   "cell_type": "code",
   "execution_count": 50,
   "metadata": {},
   "outputs": [],
   "source": [
    "def to_grayscale(img):\n",
    "    R=img[:,:,0]\n",
    "    G=img[:,:,1]\n",
    "    B=img[:,:,2]\n",
    "    gray=((0.3 * R) + (0.59 * G) + (0.11 * B)).astype(np.int32)\n",
    "    return gray"
   ]
  },
  {
   "cell_type": "code",
   "execution_count": 51,
   "metadata": {},
   "outputs": [],
   "source": [
    "img = io.imread('TestIMage.png')"
   ]
  },
  {
   "cell_type": "code",
   "execution_count": 52,
   "metadata": {},
   "outputs": [],
   "source": [
    "img=to_grayscale(img)"
   ]
  },
  {
   "cell_type": "code",
   "execution_count": 53,
   "metadata": {},
   "outputs": [
    {
     "data": {
      "text/plain": [
       "(292, 359)"
      ]
     },
     "execution_count": 53,
     "metadata": {},
     "output_type": "execute_result"
    }
   ],
   "source": [
    "img.shape"
   ]
  },
  {
   "cell_type": "code",
   "execution_count": 54,
   "metadata": {},
   "outputs": [],
   "source": [
    "for i in range(img.shape[0]):\n",
    "    for j in range(img.shape[1]):\n",
    "        if(img[i][j]!=255):\n",
    "            img[i][j]=0"
   ]
  },
  {
   "cell_type": "code",
   "execution_count": 55,
   "metadata": {},
   "outputs": [
    {
     "data": {
      "text/plain": [
       "<matplotlib.image.AxesImage at 0x7f61dd401390>"
      ]
     },
     "execution_count": 55,
     "metadata": {},
     "output_type": "execute_result"
    },
    {
     "data": {
      "image/png": "[encoded data removed]",
      "text/plain": [
       "<Figure size 432x288 with 1 Axes>"
      ]
     },
     "metadata": {},
     "output_type": "display_data"
    }
   ],
   "source": [
    "plt.imshow(img,cmap='gray')"
   ]
  },
  {
   "cell_type": "code",
   "execution_count": 56,
   "metadata": {},
   "outputs": [],
   "source": [
    "def right(i,j,img2,count):\n",
    "    increment=j+1\n",
    "    while(True):\n",
    "        if((img2[i][increment]!=0) or increment>=img2.shape[1]):\n",
    "            break\n",
    "        img2[i][increment]=count\n",
    "        increment+=1\n",
    "    return(img2)"
   ]
  },
  {
   "cell_type": "code",
   "execution_count": 57,
   "metadata": {},
   "outputs": [],
   "source": [
    "def left(i,j,img2,count):\n",
    "    decrement=j-1\n",
    "    while(True):\n",
    "        if((img2[i][decrement]!=0) or decrement<0):\n",
    "            break\n",
    "        img2[i][decrement]=count\n",
    "        decrement-=1\n",
    "    return(img2)"
   ]
  },
  {
   "cell_type": "code",
   "execution_count": 58,
   "metadata": {},
   "outputs": [],
   "source": [
    "def check(img2,i,j):\n",
    "    if((img2[i-1][j-1] in counter)):\n",
    "        img2[i][j]=img2[i-1][j-1]\n",
    "        return((img2,1))\n",
    "    \n",
    "    if((img2[i-1][j] in counter)):\n",
    "        img2[i][j]=img2[i-1][j]\n",
    "        return((img2,1))\n",
    "    \n",
    "    if((img2[i-1][j+1] in counter)):\n",
    "        img2[i][j]=img2[i-1][j+1]\n",
    "        return((img2,1))\n",
    "    \n",
    "    if((img2[i][j-1] in counter)):\n",
    "        img2[i][j]=img2[i][j-1]\n",
    "        return((img2,1))\n",
    "    \n",
    "    if((img2[i][j+1] in counter)):\n",
    "        img2[i][j]=img2[i][j+1]\n",
    "        return((img2,1))\n",
    "    \n",
    "    if((img2[i+1][j-1] in counter)):\n",
    "        img2[i][j]=img2[i+1][j-1]\n",
    "        return((img2,1))\n",
    "    \n",
    "    if((img2[i+1][j] in counter)):\n",
    "        img2[i][j]=img2[i+1][j]\n",
    "        return((img2,1))\n",
    "    \n",
    "    if((img2[i+1][j+1] in counter)):\n",
    "        img2[i][j]=img2[i+1][j+1]\n",
    "        return((img2,1))\n",
    "    \n",
    "    else:\n",
    "        return ((img2,0))"
   ]
  },
  {
   "cell_type": "code",
   "execution_count": 59,
   "metadata": {},
   "outputs": [],
   "source": [
    "def explore(i,j,img2,count):\n",
    "    img2[i][j]=count\n",
    "    img2=right(i,j,img2,count)\n",
    "    img2=left (i,j,img2,count)\n",
    "    \n",
    "    if((img2[i-1][j-1] not in counter) and (img2[i-1][j-1]==0)):\n",
    "        explore(i-1,j-1,img2,count)\n",
    "    \n",
    "    if((img2[i-1][j] not in counter) and img2[i-1][j]==0):\n",
    "        explore(i-1,j,img2,count)\n",
    "    \n",
    "    if((img2[i-1][j+1] not in counter) and img2[i-1][j+1]==0):\n",
    "        explore(i-1,j+1,img2,count)\n",
    "    \n",
    "    if((img2[i][j-1] not in counter) and img2[i][j-1]==0):\n",
    "        explore(i,j-1,img2,count)\n",
    "    \n",
    "    if((img2[i][j+1] not in counter) and img2[i][j+1]==0):\n",
    "        explore(i,j+1,img2,count)\n",
    "    \n",
    "    if((img2[i+1][j-1] not in counter) and img2[i+1][j-1]==0):\n",
    "        explore(i+1,j-1,img2,count)\n",
    "    \n",
    "    if((img2[i+1][j] not in counter) and img2[i+1][j]==0):\n",
    "        explore(i+1,j,img2,count)\n",
    "    \n",
    "    if((img2[i+1][j+1] not in counter) and img2[i+1][j+1]==0):\n",
    "        explore(i+1,j+1,img2,count)\n",
    "    else:\n",
    "        return img2"
   ]
  },
  {
   "cell_type": "code",
   "execution_count": 60,
   "metadata": {},
   "outputs": [],
   "source": [
    "count=0\n",
    "counter=list()\n",
    "img2=np.copy(img)\n",
    "img3=np.copy(img2)\n",
    "for i in range(img.shape[0]):\n",
    "    for j in range(img.shape[1]):\n",
    "        if(img[i][j]==0 and img2[i][j] not in counter):\n",
    "            img2,flag=check(img2,i,j)\n",
    "\n",
    "            if(flag):\n",
    "                img2=right(i,j,img2,img2[i][j])\n",
    "                img2=left(i,j,img2,img2[i][j])\n",
    "            if(not flag):\n",
    "                count+=1\n",
    "                counter.append(count)\n",
    "                img2=explore(i,j,img2,count)"
   ]
  },
  {
   "cell_type": "code",
   "execution_count": 61,
   "metadata": {},
   "outputs": [
    {
     "data": {
      "text/plain": [
       "4"
      ]
     },
     "execution_count": 61,
     "metadata": {},
     "output_type": "execute_result"
    }
   ],
   "source": [
    "count"
   ]
  },
  {
   "cell_type": "code",
   "execution_count": 62,
   "metadata": {},
   "outputs": [
    {
     "data": {
      "text/plain": [
       "[1, 2, 3, 4]"
      ]
     },
     "execution_count": 62,
     "metadata": {},
     "output_type": "execute_result"
    }
   ],
   "source": [
    "counter"
   ]
  },
  {
   "cell_type": "code",
   "execution_count": 47,
   "metadata": {},
   "outputs": [
    {
     "data": {
      "text/plain": [
       "array([[  3,   3,   3,   3,   3,   3,   3,   3,   3,   3,   3,   3, 255,\n",
       "        255, 255, 255, 255, 255,   4,   4],\n",
       "       [  3,   3,   3,   3,   3,   3,   3,   3,   3,   3,   3, 255, 255,\n",
       "        255, 255, 255, 255,   4,   4,   4],\n",
       "       [  3,   3,   3,   3,   3,   3,   3,   3,   3,   3, 255, 255, 255,\n",
       "        255, 255, 255,   4,   4,   4,   4],\n",
       "       [  3,   3,   3,   3,   3,   3,   3,   3,   3, 255, 255, 255, 255,\n",
       "        255, 255, 255,   4,   4,   4,   4],\n",
       "       [  3,   3,   3,   3,   3,   3,   3,   3,   3, 255, 255, 255, 255,\n",
       "        255, 255,   4,   4,   4,   4,   4],\n",
       "       [  3,   3,   3,   3,   3,   3,   3,   3, 255, 255, 255, 255, 255,\n",
       "        255,   4,   4,   4,   4,   4,   4],\n",
       "       [  3,   3,   3,   3,   3,   3,   3, 255, 255, 255, 255, 255, 255,\n",
       "          4,   4,   4,   4,   4,   4,   4],\n",
       "       [  3,   3,   3,   3,   3,   3, 255, 255, 255, 255, 255, 255, 255,\n",
       "          4,   4,   4,   4,   4,   4,   4],\n",
       "       [  3,   3,   3,   3,   3, 255, 255, 255, 255, 255, 255, 255,   4,\n",
       "          4,   4,   4,   4,   4,   4,   4],\n",
       "       [  3,   3,   3,   3,   3, 255, 255, 255, 255, 255, 255,   4,   4,\n",
       "          4,   4,   4,   4,   4,   4,   4],\n",
       "       [  3,   3,   3,   3, 255, 255, 255, 255, 255, 255,   4,   4,   4,\n",
       "          4,   4,   4,   4,   4,   4,   4],\n",
       "       [  3,   3,   3, 255, 255, 255, 255, 255, 255,   4,   4,   4,   4,\n",
       "          4,   4,   4,   4,   4,   4,   4],\n",
       "       [  3,   3, 255, 255, 255, 255, 255, 255, 255,   4,   4,   4,   4,\n",
       "          4,   4,   4,   4,   4,   4,   4],\n",
       "       [  3,   3, 255, 255, 255, 255, 255, 255,   4,   4,   4,   4,   4,\n",
       "          4,   4,   4,   4,   4,   4,   4],\n",
       "       [  3, 255, 255, 255, 255, 255, 255,   4,   4,   4,   4,   4,   4,\n",
       "          4,   4,   4,   4,   4,   4,   4],\n",
       "       [255, 255, 255, 255, 255, 255,   4,   4,   4,   4,   4,   4,   4,\n",
       "          4,   4,   4,   4,   4,   4,   4],\n",
       "       [255, 255, 255, 255, 255, 255,   4,   4,   4,   4,   4,   4,   4,\n",
       "          4,   4,   4,   4,   4,   4,   4],\n",
       "       [255, 255, 255, 255, 255,   4,   4,   4,   4,   4,   4,   4,   4,\n",
       "          4,   4,   4,   4,   4,   4,   4],\n",
       "       [255, 255, 255, 255,   4,   4,   4,   4,   4,   4,   4,   4,   4,\n",
       "          4,   4,   4,   4,   4,   4,   4],\n",
       "       [255, 255, 255,   4,   4,   4,   4,   4,   4,   4,   4,   4,   4,\n",
       "          4,   4,   4,   4,   4,   4,   4],\n",
       "       [255, 255, 255,   4,   4,   4,   4,   4,   4,   4,   4,   4,   4,\n",
       "          4,   4,   4,   4,   4,   4,   4],\n",
       "       [255, 255,   4,   4,   4,   4,   4,   4,   4,   4,   4,   4,   4,\n",
       "          4,   4,   4,   4,   4,   4,   4],\n",
       "       [255,   4,   4,   4,   4,   4,   4,   4,   4,   4,   4,   4,   4,\n",
       "          4,   4,   4,   4,   4,   4,   4],\n",
       "       [  4,   4,   4,   4,   4,   4,   4,   4,   4,   4,   4,   4,   4,\n",
       "          4,   4,   4,   4,   4,   4,   4],\n",
       "       [  4,   4,   4,   4,   4,   4,   4,   4,   4,   4,   4,   4,   4,\n",
       "          4,   4,   4,   4,   4,   4,   4],\n",
       "       [  4,   4,   4,   4,   4,   4,   4,   4,   4,   4,   4,   4,   4,\n",
       "          4,   4,   4,   4,   4, 255, 255],\n",
       "       [  4,   4,   4,   4,   4,   4,   4,   4,   4,   4,   4,   4,   4,\n",
       "          4,   4,   4, 255, 255, 255, 255],\n",
       "       [  4,   4,   4,   4,   4,   4,   4,   4,   4,   4,   4,   4,   4,\n",
       "          4, 255, 255, 255, 255, 255, 255],\n",
       "       [  4,   4,   4,   4,   4,   4,   4,   4,   4,   4,   4,   4, 255,\n",
       "        255, 255, 255, 255, 255, 255, 255],\n",
       "       [  4,   4,   4,   4,   4,   4,   4,   4,   4,   4, 255, 255, 255,\n",
       "        255, 255, 255, 255, 255, 255, 255]], dtype=int32)"
      ]
     },
     "execution_count": 47,
     "metadata": {},
     "output_type": "execute_result"
    }
   ],
   "source": [
    "img2[220:250,150:170]"
   ]
  },
  {
   "cell_type": "code",
   "execution_count": 48,
   "metadata": {},
   "outputs": [
    {
     "data": {
      "text/plain": [
       "array([2, 2, 2, 2, 2, 2, 2, 2, 2, 2, 2, 2, 2, 2, 2, 2, 2, 2, 2, 2, 2, 2,\n",
       "       2, 2, 2, 2, 2, 2, 2, 2, 2, 2, 2, 2, 2, 2, 2, 2, 2, 2, 2, 2, 2, 2,\n",
       "       2, 2, 2, 2, 2, 2], dtype=int32)"
      ]
     },
     "execution_count": 48,
     "metadata": {},
     "output_type": "execute_result"
    }
   ],
   "source": [
    "img2[100,250:300]"
   ]
  },
  {
   "cell_type": "code",
   "execution_count": null,
   "metadata": {},
   "outputs": [],
   "source": []
  }
 ],
 "metadata": {
  "kernelspec": {
   "display_name": "Python 3",
   "language": "python",
   "name": "python3"
  },
  "language_info": {
   "codemirror_mode": {
    "name": "ipython",
    "version": 3
   },
   "file_extension": ".py",
   "mimetype": "text/x-python",
   "name": "python",
   "nbconvert_exporter": "python",
   "pygments_lexer": "ipython3",
   "version": "3.6.5"
  }
 },
 "nbformat": 4,
 "nbformat_minor": 2
}
