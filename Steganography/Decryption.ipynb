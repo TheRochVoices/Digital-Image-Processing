{
 "cells": [
  {
   "cell_type": "code",
   "execution_count": 1,
   "metadata": {},
   "outputs": [],
   "source": [
    "from skimage import io\n",
    "import numpy as np\n",
    "import matplotlib.pyplot as plt"
   ]
  },
  {
   "cell_type": "code",
   "execution_count": 21,
   "metadata": {},
   "outputs": [],
   "source": [
    "img = io.imread('ciphered.png')"
   ]
  },
  {
   "cell_type": "code",
   "execution_count": 23,
   "metadata": {},
   "outputs": [
    {
     "data": {
      "text/plain": [
       "63"
      ]
     },
     "execution_count": 23,
     "metadata": {},
     "output_type": "execute_result"
    }
   ],
   "source": [
    "img[-1][-1][-1]"
   ]
  },
  {
   "cell_type": "code",
   "execution_count": 24,
   "metadata": {},
   "outputs": [],
   "source": [
    "total_length=img[-1][-1][-1]"
   ]
  },
  {
   "cell_type": "code",
   "execution_count": 25,
   "metadata": {},
   "outputs": [],
   "source": [
    "decipher_stream=str()"
   ]
  },
  {
   "cell_type": "code",
   "execution_count": 26,
   "metadata": {},
   "outputs": [],
   "source": [
    "for i in range(img.shape[0]):\n",
    "    if(total_length==0):\n",
    "                break\n",
    "    for j in range(img.shape[1]):\n",
    "        if(total_length==0):\n",
    "                break\n",
    "        for k in range(img.shape[2]):\n",
    "            if(total_length==0):\n",
    "                break\n",
    "            binary_pixel=bin(img[i][j][k])\n",
    "            binary_pixel=binary_pixel[-1]\n",
    "            decipher_stream+=binary_pixel\n",
    "            total_length-=1"
   ]
  },
  {
   "cell_type": "code",
   "execution_count": 27,
   "metadata": {},
   "outputs": [
    {
     "data": {
      "text/plain": [
       "0"
      ]
     },
     "execution_count": 27,
     "metadata": {},
     "output_type": "execute_result"
    }
   ],
   "source": [
    "total_length"
   ]
  },
  {
   "cell_type": "code",
   "execution_count": 30,
   "metadata": {},
   "outputs": [
    {
     "data": {
      "text/plain": [
       "'110100011001011111001100000011101001101000110010111100101100101'"
      ]
     },
     "execution_count": 30,
     "metadata": {},
     "output_type": "execute_result"
    }
   ],
   "source": [
    "decipher_stream"
   ]
  },
  {
   "cell_type": "code",
   "execution_count": 43,
   "metadata": {},
   "outputs": [],
   "source": [
    "sub_stream=str()"
   ]
  },
  {
   "cell_type": "code",
   "execution_count": 44,
   "metadata": {},
   "outputs": [
    {
     "name": "stdout",
     "output_type": "stream",
     "text": [
      "1101000\n",
      "h\n",
      "1100101\n",
      "e\n",
      "1111001\n",
      "y\n",
      "1000000\n",
      "@\n",
      "1110100\n",
      "t\n",
      "1101000\n",
      "h\n",
      "1100101\n",
      "e\n",
      "1110010\n",
      "r\n",
      "1100101\n",
      "e\n"
     ]
    }
   ],
   "source": [
    "k=0\n",
    "for i in decipher_stream:\n",
    "    sub_stream+=i\n",
    "    k=k+1\n",
    "    if(k==7):\n",
    "        print(sub_stream)\n",
    "        print(chr(int(sub_stream,2)))\n",
    "        sub_stream=str()\n",
    "        k=0\n",
    "        '''\n",
    "        \n",
    "        sub_stream=str()\n",
    "        \n",
    "        '''"
   ]
  },
  {
   "cell_type": "code",
   "execution_count": null,
   "metadata": {},
   "outputs": [],
   "source": []
  }
 ],
 "metadata": {
  "kernelspec": {
   "display_name": "Python 3",
   "language": "python",
   "name": "python3"
  },
  "language_info": {
   "codemirror_mode": {
    "name": "ipython",
    "version": 3
   },
   "file_extension": ".py",
   "mimetype": "text/x-python",
   "name": "python",
   "nbconvert_exporter": "python",
   "pygments_lexer": "ipython3",
   "version": "3.6.5"
  }
 },
 "nbformat": 4,
 "nbformat_minor": 2
}
